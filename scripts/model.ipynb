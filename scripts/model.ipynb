{
 "cells": [
  {
   "cell_type": "code",
   "execution_count": 15,
   "metadata": {},
   "outputs": [],
   "source": [
    "import os\n",
    "import requests\n",
    "import json\n",
    "\n"
   ]
  },
  {
   "cell_type": "code",
   "execution_count": 2,
   "metadata": {},
   "outputs": [],
   "source": [
    "with open(\"25694.json\") as f:\n",
    "    model = json.load(f)\n"
   ]
  },
  {
   "cell_type": "code",
   "execution_count": 11,
   "metadata": {},
   "outputs": [
    {
     "data": {
      "text/plain": [
       "{'id': 143906,\n",
       " 'name': 'Natural Sin RC1 VAE',\n",
       " 'index': 0,\n",
       " 'status': 'Published',\n",
       " 'modelId': 25694,\n",
       " 'baseModel': 'SD 1.5',\n",
       " 'createdAt': '2023-08-19T07:28:57.129',\n",
       " 'nsfwLevel': 7,\n",
       " 'description': '<p>Since i\\'m low on time i still wanted to release the RC1 of an new aproach.</p><ul><li><p>ordinary faces, natural look, more face diversity</p></li><li><p>hand fix</p></li></ul><p><strong>VAE included</strong></p><p>Recommended simple Negative for average looking output, avoid \"optimizer\" Embeddings</p><pre><code>cartoon, cgi, render, illustration, painting, drawing</code></pre><p>seems to be a bit nsfw heavy and very lose on prompt guidance for now</p>',\n",
       " 'publishedAt': '2023-08-22T13:05:17.906',\n",
       " 'availability': 'Public',\n",
       " 'baseModelType': 'Standard',\n",
       " 'stats': {'downloadCount': 235760,\n",
       "  'ratingCount': 1927,\n",
       "  'rating': 4.93,\n",
       "  'thumbsUpCount': 4080,\n",
       "  'thumbsDownCount': 9},\n",
       " 'files': [{'id': 106430,\n",
       "   'sizeKB': 2082642.19921875,\n",
       "   'name': 'epicrealism_naturalSinRC1VAE.safetensors',\n",
       "   'type': 'Model',\n",
       "   'pickleScanResult': 'Success',\n",
       "   'pickleScanMessage': 'No Pickle imports',\n",
       "   'virusScanResult': 'Success',\n",
       "   'virusScanMessage': None,\n",
       "   'scannedAt': '2023-08-19T09:36:52.898Z',\n",
       "   'metadata': {'format': 'SafeTensor', 'size': 'pruned', 'fp': 'fp16'},\n",
       "   'hashes': {'AutoV1': '90A4C676',\n",
       "    'AutoV2': '84D76A0328',\n",
       "    'SHA256': '84D76A0328EE5A1A2A1D466BA7478AB59183E3FEA385441528AA4C5D567FD43E',\n",
       "    'CRC32': 'C799B74A',\n",
       "    'BLAKE3': 'D25A958A0F9F37FA7C14265D8818DDEE8259A6435F5F4FEA99DF7C8C28CD8AE2'},\n",
       "   'downloadUrl': 'https://civitai.com/api/download/models/143906',\n",
       "   'primary': True}],\n",
       " 'images': [{'url': 'https://image.civitai.com/xG1nkqKTMzGDvpLrqFT7WA/3822f91b-5f4e-4df6-8934-2a453f13b40e/width=450/2103034.jpeg',\n",
       "   'nsfwLevel': 1,\n",
       "   'width': 960,\n",
       "   'height': 1440,\n",
       "   'hash': 'U6D9x89F00~p]i%M?^8_00xv_3015qD%4UXm',\n",
       "   'type': 'image'},\n",
       "  {'url': 'https://image.civitai.com/xG1nkqKTMzGDvpLrqFT7WA/905697ba-561f-405c-8c1f-a077aa0fa732/width=450/2103035.jpeg',\n",
       "   'nsfwLevel': 4,\n",
       "   'width': 1024,\n",
       "   'height': 1536,\n",
       "   'hash': 'UOFYP,oKJUxu~qj[kXxuTeR*nht7Rkj[e-WB',\n",
       "   'type': 'image'},\n",
       "  {'url': 'https://image.civitai.com/xG1nkqKTMzGDvpLrqFT7WA/470ce5ae-497e-414f-bd8b-cc1bf67086ef/width=450/2103038.jpeg',\n",
       "   'nsfwLevel': 1,\n",
       "   'width': 1024,\n",
       "   'height': 1536,\n",
       "   'hash': 'UZFPQqWANHWB-pM{kCRj_NM{RPM{tRaen%WB',\n",
       "   'type': 'image'},\n",
       "  {'url': 'https://image.civitai.com/xG1nkqKTMzGDvpLrqFT7WA/0b687bf5-0909-46a4-9ba5-83b018312d6b/width=450/2103039.jpeg',\n",
       "   'nsfwLevel': 2,\n",
       "   'width': 1024,\n",
       "   'height': 1536,\n",
       "   'hash': 'U56@=$jYbv4o~p-;M{9Gxt~p9GIU-;-:M{IU',\n",
       "   'type': 'image'},\n",
       "  {'url': 'https://image.civitai.com/xG1nkqKTMzGDvpLrqFT7WA/530ba359-f680-4704-aeb1-3fefb2cd632d/width=450/2103032.jpeg',\n",
       "   'nsfwLevel': 1,\n",
       "   'width': 1024,\n",
       "   'height': 1536,\n",
       "   'hash': 'U56QuAs-Io}@-V$%$*s:0zxa={9uEMNHI:a}',\n",
       "   'type': 'image'},\n",
       "  {'url': 'https://image.civitai.com/xG1nkqKTMzGDvpLrqFT7WA/58b233b6-ece4-45b9-b856-637f5434b45a/width=450/2103042.jpeg',\n",
       "   'nsfwLevel': 2,\n",
       "   'width': 1536,\n",
       "   'height': 1024,\n",
       "   'hash': 'U47^*-~BxY5mDjoJXSs,0Lozxu-A%gRjMxS5',\n",
       "   'type': 'image'},\n",
       "  {'url': 'https://image.civitai.com/xG1nkqKTMzGDvpLrqFT7WA/ea3ee4a1-a74c-4f04-92b2-ba829105c053/width=450/2103043.jpeg',\n",
       "   'nsfwLevel': 1,\n",
       "   'width': 1024,\n",
       "   'height': 1536,\n",
       "   'hash': 'U47m$$?G0#wx-oNH0gIp0gxF^PS458xa~Aoz',\n",
       "   'type': 'image'},\n",
       "  {'url': 'https://image.civitai.com/xG1nkqKTMzGDvpLrqFT7WA/31b8fa47-27a2-47d1-bcba-fda368612f4e/width=450/2103046.jpeg',\n",
       "   'nsfwLevel': 1,\n",
       "   'width': 1024,\n",
       "   'height': 1536,\n",
       "   'hash': 'UGGtpXxaVEM{]kRj-ptR~WxuMdt6MenN%3of',\n",
       "   'type': 'image'},\n",
       "  {'url': 'https://image.civitai.com/xG1nkqKTMzGDvpLrqFT7WA/42a3553e-c472-4fcb-95ed-3ac8720a846a/width=450/2103049.jpeg',\n",
       "   'nsfwLevel': 1,\n",
       "   'width': 1024,\n",
       "   'height': 1536,\n",
       "   'hash': 'U9CZOv-p?^%M?GMyIVWB9st7VsRj4.bIIUt7',\n",
       "   'type': 'image'},\n",
       "  {'url': 'https://image.civitai.com/xG1nkqKTMzGDvpLrqFT7WA/822d139b-664d-4f81-9b34-2887d361e11c/width=450/2103048.jpeg',\n",
       "   'nsfwLevel': 2,\n",
       "   'width': 1024,\n",
       "   'height': 1536,\n",
       "   'hash': 'UDG8Gs==AK$$?cnm-ps:wiRW-V-V~A-pRi-;',\n",
       "   'type': 'image'},\n",
       "  {'url': 'https://image.civitai.com/xG1nkqKTMzGDvpLrqFT7WA/1e230735-1a52-40ef-8bdd-9e0928c2b4ee/width=450/2103053.jpeg',\n",
       "   'nsfwLevel': 1,\n",
       "   'width': 1024,\n",
       "   'height': 1536,\n",
       "   'hash': 'UAF={xjX.8.8^*bb%gayE1XSn$RO_NjZR5t8',\n",
       "   'type': 'image'},\n",
       "  {'url': 'https://image.civitai.com/xG1nkqKTMzGDvpLrqFT7WA/fcbf493d-db55-4df0-98f3-7dd1283e514b/width=450/2103058.jpeg',\n",
       "   'nsfwLevel': 4,\n",
       "   'width': 1024,\n",
       "   'height': 1536,\n",
       "   'hash': 'UbGuXaNH-:t7~qWBt7oftloKRjWVxuayRjay',\n",
       "   'type': 'image'},\n",
       "  {'url': 'https://image.civitai.com/xG1nkqKTMzGDvpLrqFT7WA/d7bc7e46-800b-436f-b96b-69b46d8c4f0e/width=450/2103065.jpeg',\n",
       "   'nsfwLevel': 2,\n",
       "   'width': 1024,\n",
       "   'height': 1536,\n",
       "   'hash': 'U26%~DI;0g~B0M%1xtELEzae=xIos:M|s.%1',\n",
       "   'type': 'image'}],\n",
       " 'downloadUrl': 'https://civitai.com/api/download/models/143906'}"
      ]
     },
     "execution_count": 11,
     "metadata": {},
     "output_type": "execute_result"
    }
   ],
   "source": [
    "model[\"modelVersions\"][0]\n"
   ]
  },
  {
   "cell_type": "code",
   "execution_count": 18,
   "metadata": {},
   "outputs": [
    {
     "name": "stdout",
     "output_type": "stream",
     "text": [
      "Checkpoint\n",
      "SD 1.5\n",
      "https://civitai.com/api/download/models/143906\n",
      "epicrealism_naturalSinRC1VAE.safetensors\n"
     ]
    }
   ],
   "source": [
    "model_type = model[\"type\"]\n",
    "base_model = model[\"modelVersions\"][0][\"baseModel\"]\n",
    "url = model[\"modelVersions\"][0][\"files\"][0][\"downloadUrl\"]\n",
    "name = model[\"modelVersions\"][0][\"files\"][0][\"name\"]\n",
    "\n",
    "print(model_type)\n",
    "print(base_model)\n",
    "print(url)\n",
    "print(name)"
   ]
  },
  {
   "cell_type": "code",
   "execution_count": 16,
   "metadata": {},
   "outputs": [],
   "source": [
    "r = requests.get(url)\n",
    "\n",
    "with open(name, \"wb\") as f:\n",
    "    f.write(r.content)"
   ]
  },
  {
   "cell_type": "code",
   "execution_count": 36,
   "metadata": {},
   "outputs": [
    {
     "name": "stdout",
     "output_type": "stream",
     "text": [
      "432586.json----------\n",
      "LORA\n",
      "{'id': 400221, 'sizeKB': 124993.15234375, 'name': 'CinematicStyle_v1.safetensors', 'type': 'Model', 'pickleScanResult': 'Success', 'pickleScanMessage': 'No Pickle imports', 'virusScanResult': 'Success', 'virusScanMessage': None, 'scannedAt': '2024-05-02T20:31:32.989Z', 'metadata': {'format': 'SafeTensor'}, 'hashes': {'AutoV1': '24593201', 'AutoV2': 'A190D6F35F', 'SHA256': 'A190D6F35F81E397D04FF49B2932BA27794F9A4D87211A6A78648895D989C14C', 'CRC32': '08B48575', 'BLAKE3': '12AB171247224F9D5D4315BD4EB52D52D8B417D9D70A8B84340B4823A11F88A0', 'AutoV3': 'F320675F07EB'}, 'downloadUrl': 'https://civitai.com/api/download/models/481917', 'primary': True}\n",
      "404694.json----------\n",
      "LORA\n",
      "{'id': 370872, 'sizeKB': 35003.2509765625, 'name': '451218_training_data.zip', 'type': 'Training Data', 'pickleScanResult': 'Success', 'pickleScanMessage': 'No Pickle imports', 'virusScanResult': 'Success', 'virusScanMessage': None, 'scannedAt': '2024-04-16T23:45:48.176Z', 'metadata': {'format': 'Other'}, 'hashes': {'AutoV1': '37574113', 'AutoV2': 'ED6E6F1EB9', 'SHA256': 'ED6E6F1EB9125876738E7E8F3DF898F6C445B3F2A0257E6067726B4A53D41C4A', 'CRC32': 'AB6B04BD', 'BLAKE3': '000A8D9A4CA568B63F4A33F900819DAA3D00E27EDAEC7F64226E2D45470C4CB9'}, 'downloadUrl': 'https://civitai.com/api/download/models/451218?type=Training%20Data'}\n",
      "{'id': 370932, 'sizeKB': 223105.83203125, 'name': 'Death_Metal_Album_Cover_XL.safetensors', 'type': 'Model', 'pickleScanResult': 'Success', 'pickleScanMessage': 'No Pickle imports', 'virusScanResult': 'Success', 'virusScanMessage': None, 'scannedAt': '2024-04-17T00:30:57.529Z', 'metadata': {'format': 'SafeTensor'}, 'hashes': {'AutoV1': 'F2AB31D4', 'AutoV2': '18D14D8589', 'SHA256': '18D14D8589EA92B35BDA5BBBFAC3204BC67E9F8ED99452E536B6E54F399204FB', 'CRC32': 'A2A1994C', 'BLAKE3': '5ED6732C07468D5BFFD8676709EC72E8477A04D2621344A74F641CE693EDE7EF', 'AutoV3': '1E41182FF14E'}, 'downloadUrl': 'https://civitai.com/api/download/models/451218', 'primary': True}\n",
      "391036.json----------\n",
      "LORA\n",
      "{'id': 365035, 'sizeKB': 445789.89453125, 'name': 'casting shadow style v2.safetensors', 'type': 'Model', 'pickleScanResult': 'Success', 'pickleScanMessage': 'No Pickle imports', 'virusScanResult': 'Success', 'virusScanMessage': None, 'scannedAt': '2024-04-13T18:26:14.911Z', 'metadata': {'format': 'SafeTensor'}, 'hashes': {'AutoV1': 'EF034907', 'AutoV2': '23E9673511', 'SHA256': '23E96735110260865D6E3C4999AE881B7C2FDC299FD1212B133C721D8B0C5C95', 'CRC32': '5292DDD5', 'BLAKE3': '0987C324B4A79C5744C8A72C209566685C31C88FF3D138876D63AE5F5F680497', 'AutoV3': '8F86F8482514'}, 'downloadUrl': 'https://civitai.com/api/download/models/445042', 'primary': True}\n",
      "149408.json----------\n",
      "LORA\n",
      "{'id': 126471, 'sizeKB': 166546.74609375, 'name': 'tech_streetwear.safetensors', 'type': 'Model', 'pickleScanResult': 'Success', 'pickleScanMessage': 'No Pickle imports', 'virusScanResult': 'Success', 'virusScanMessage': None, 'scannedAt': '2023-09-21T19:00:55.029Z', 'metadata': {'format': 'SafeTensor'}, 'hashes': {'AutoV1': '7B7AC94C', 'AutoV2': '85BD7197E1', 'SHA256': '85BD7197E1F4D81024D1A44000A12E8BD0D58169186017E7E7B7CC12E6B75512', 'CRC32': '37A11ADD', 'BLAKE3': '1E8B95BC587B4CF46FE20064C9C6B82400A52A54748092B67D62E634B087ED9A', 'AutoV3': '8DFE7D709C43'}, 'downloadUrl': 'https://civitai.com/api/download/models/166857', 'primary': True}\n",
      "291226.json----------\n",
      "LORA\n",
      "{'id': 276868, 'sizeKB': 129138.4609375, 'name': 'fujifilm-instax-v2beta.safetensors', 'type': 'Model', 'pickleScanResult': 'Success', 'pickleScanMessage': 'No Pickle imports', 'virusScanResult': 'Success', 'virusScanMessage': None, 'scannedAt': '2024-02-17T16:40:43.957Z', 'metadata': {'format': 'SafeTensor'}, 'hashes': {'AutoV1': 'BFD6A095', 'AutoV2': '414FA55F09', 'SHA256': '414FA55F09C20E995724E2A9AC1A8CAE03575BFCD29BBD19D4A39E3728C48F4F', 'CRC32': 'D6C42221', 'BLAKE3': 'C4586322C1531B2020862341AF2050AE866DD42FCFB2D99FAF559EF52E987562', 'AutoV3': '4F6C7712069E'}, 'downloadUrl': 'https://civitai.com/api/download/models/347869', 'primary': True}\n",
      "74429.json----------\n",
      "LORA\n",
      "{'id': 54367, 'sizeKB': 147567.2177734375, 'name': 'old_siemens.safetensors', 'type': 'Model', 'pickleScanResult': 'Success', 'pickleScanMessage': 'No Pickle imports', 'virusScanResult': 'Success', 'virusScanMessage': None, 'scannedAt': '2023-05-23T19:01:20.291Z', 'metadata': {'format': 'SafeTensor'}, 'hashes': {'AutoV1': '752639BE', 'AutoV2': '7AA73DE61C', 'SHA256': '7AA73DE61C893CF5E38A72444FA2F943FB83A24EBE11833223C760F66CBD1CFF', 'CRC32': 'DB2EFF97', 'BLAKE3': '13E60FEE284319736A4F70BE733D5F609CF9DC25D9AEC4EA4346366DC0049538', 'AutoV3': '4A8F72C7F074'}, 'downloadUrl': 'https://civitai.com/api/download/models/79142', 'primary': True}\n",
      "277058.json----------\n",
      "Checkpoint\n",
      "{'id': 407498, 'sizeKB': 6776582.55859375, 'name': 'epicrealismXL_v7FinalDestination.safetensors', 'type': 'Model', 'pickleScanResult': 'Success', 'pickleScanMessage': 'No Pickle imports', 'virusScanResult': 'Success', 'virusScanMessage': None, 'scannedAt': '2024-05-06T12:04:16.670Z', 'metadata': {'format': 'SafeTensor', 'size': 'pruned', 'fp': 'fp16'}, 'hashes': {'AutoV1': '1437AE07', 'AutoV2': '408997149C', 'SHA256': '408997149CD6CE0F1F8187A857303F312E5BF090948B4C432D2329D7EFCD26C5', 'CRC32': '8CD39863', 'BLAKE3': 'B7FD338CCD58A64FE7CC68955F1B8292A4B644FFB9FB3656E1F36DEBB8904632', 'AutoV3': '8444CE0D524A'}, 'downloadUrl': 'https://civitai.com/api/download/models/489217', 'primary': True}\n",
      "235495.json----------\n",
      "LORA\n",
      "{'id': 232511, 'sizeKB': 891166.93359375, 'name': 'Kodak Motion Picture Film Style v4.safetensors', 'type': 'Model', 'pickleScanResult': 'Success', 'pickleScanMessage': 'No Pickle imports', 'virusScanResult': 'Success', 'virusScanMessage': None, 'scannedAt': '2024-01-11T20:51:24.198Z', 'metadata': {'format': 'SafeTensor'}, 'hashes': {'AutoV1': 'A82BF003', 'AutoV2': '6B050DE62A', 'SHA256': '6B050DE62A8006B6976D6FFA2AD139B0DB5920982A0B2B2C225C37E49B2F8BCB', 'CRC32': 'EF6DA02B', 'BLAKE3': '746F460BA01347945ABDCD7A241C2FB01C387059606EBBAA4848065269AC2D06', 'AutoV3': '19A5EBB60903'}, 'downloadUrl': 'https://civitai.com/api/download/models/290797', 'primary': True}\n",
      "286482.json----------\n",
      "LORA\n",
      "{'id': 255583, 'sizeKB': 223104.16796875, 'name': 'Retro_80s_90s.safetensors', 'type': 'Model', 'pickleScanResult': 'Success', 'pickleScanMessage': 'No Pickle imports', 'virusScanResult': 'Success', 'virusScanMessage': None, 'scannedAt': '2024-01-31T23:16:24.097Z', 'metadata': {'format': 'SafeTensor'}, 'hashes': {'AutoV1': 'FD4B7486', 'AutoV2': '7A7EFBEBDA', 'SHA256': '7A7EFBEBDAB98A11DB4BB7C12C2AA1A0900E33F279C2B5A7DDE9FB125CCC180B', 'CRC32': '824602D6', 'BLAKE3': 'C693E0AD8F824B4B62EC7555840E47C478E302EA40120094BA8BDCD497282117', 'AutoV3': '4DDB1F805D00'}, 'downloadUrl': 'https://civitai.com/api/download/models/322231', 'primary': True}\n",
      "347461.json----------\n",
      "LORA\n",
      "{'id': 312538, 'sizeKB': 36977.2734375, 'name': 'euphoriaStyleV19.safetensors', 'type': 'Model', 'pickleScanResult': 'Success', 'pickleScanMessage': 'No Pickle imports', 'virusScanResult': 'Success', 'virusScanMessage': None, 'scannedAt': '2024-03-12T21:31:28.433Z', 'metadata': {'format': 'SafeTensor'}, 'hashes': {'AutoV1': '06D9174E', 'AutoV2': '0CFF9967D0', 'SHA256': '0CFF9967D0C020DDF56FFDC5FDC2F7BBA1814A0603C796E105367B06BD7DF2C5', 'CRC32': '56A1D7CA', 'BLAKE3': '76933C6E79619E82FB646FC1F912D67243FD8E3CA3D01D4292ABC665ADDFD435', 'AutoV3': '70A27E250802'}, 'downloadUrl': 'https://civitai.com/api/download/models/388815', 'primary': True}\n",
      "25694.json----------\n",
      "Checkpoint\n",
      "{'id': 106430, 'sizeKB': 2082642.19921875, 'name': 'epicrealism_naturalSinRC1VAE.safetensors', 'type': 'Model', 'pickleScanResult': 'Success', 'pickleScanMessage': 'No Pickle imports', 'virusScanResult': 'Success', 'virusScanMessage': None, 'scannedAt': '2023-08-19T09:36:52.898Z', 'metadata': {'format': 'SafeTensor', 'size': 'pruned', 'fp': 'fp16'}, 'hashes': {'AutoV1': '90A4C676', 'AutoV2': '84D76A0328', 'SHA256': '84D76A0328EE5A1A2A1D466BA7478AB59183E3FEA385441528AA4C5D567FD43E', 'CRC32': 'C799B74A', 'BLAKE3': 'D25A958A0F9F37FA7C14265D8818DDEE8259A6435F5F4FEA99DF7C8C28CD8AE2'}, 'downloadUrl': 'https://civitai.com/api/download/models/143906', 'primary': True}\n"
     ]
    }
   ],
   "source": [
    "for civatai_model in [k for k in os.listdir() if k.endswith(\"json\")]:\n",
    "    \n",
    "    print(civatai_model+\"----------\")\n",
    "    with open(civatai_model) as f:\n",
    "        model = json.load(f)\n",
    "    \n",
    "    model_type = model[\"type\"]\n",
    "    print(model_type)\n",
    "    base_model = model[\"modelVersions\"][0][\"baseModel\"]\n",
    "    \n",
    "    for file in model[\"modelVersions\"][0][\"files\"]:\n",
    "        print(file)\n",
    "        if file[\"type\"] == \"Model\":\n",
    "            url = file[\"downloadUrl\"]\n",
    "            name = file[\"name\"]\n",
    "            \n",
    "            if (model_type == \"LORA\") and (base_model == \"SDXL 1.0\"):\n",
    "            #if (model_type == \"Checkpoint\") and (base_model == \"SDXL 1.0\"):\n",
    "                #print(model_type)\n",
    "                #print(base_model)\n",
    "                #print(url)\n",
    "                #print(name)\n",
    "                print(f'\"{name}\": \"{url}\"')"
   ]
  },
  {
   "cell_type": "code",
   "execution_count": 19,
   "metadata": {},
   "outputs": [],
   "source": [
    "os.makedirs(name=model_type, exist_ok=True)\n"
   ]
  }
 ],
 "metadata": {
  "kernelspec": {
   "display_name": ".venv",
   "language": "python",
   "name": "python3"
  },
  "language_info": {
   "codemirror_mode": {
    "name": "ipython",
    "version": 3
   },
   "file_extension": ".py",
   "mimetype": "text/x-python",
   "name": "python",
   "nbconvert_exporter": "python",
   "pygments_lexer": "ipython3",
   "version": "3.10.14"
  }
 },
 "nbformat": 4,
 "nbformat_minor": 2
}
